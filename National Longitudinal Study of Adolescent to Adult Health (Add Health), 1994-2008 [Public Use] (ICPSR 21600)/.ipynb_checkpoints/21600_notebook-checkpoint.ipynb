{
 "cells": [
  {
   "cell_type": "markdown",
   "metadata": {},
   "source": [
    "# Classical Music Consumer Segmentation Study 2002 [United States] (ICPSR 35535)"
   ]
  },
  {
   "cell_type": "markdown",
   "metadata": {},
   "source": [
    "## Alternate Title\n",
    "#### Magic of Music"
   ]
  },
  {
   "cell_type": "markdown",
   "metadata": {},
   "source": [
    "## Summary\n",
    "#### The Classical Music Consumer Segmentation Study 2002 collected data on how Americans related to classical music and to their local orchestras. This study contains three data collection efforts: the National Survey, 15 Market Areas Survey, and the Ticket Buyers Survey. The National Survey collected data from a total of 2,200 telephone interviews with United States adults (age 18 and older), which were conducted in March 2001 using random-digit dialing. A series of four focus groups were conducted in November 2000 with orchestra ticket buyers and prospects (non-buyers) in Charlotte and St. Paul. The overall purpose of the focus group research was to test protocol for the national telephone survey and to probe specific behaviors, attitudes and opinions related to classical music participation. Data was collected on attitudes, behaviors, and opinions related to classical music participation. In addition to these questions, a subset of respondents who qualified as \"potential classical music consumers\" were also asked a series of questions about factors that affect their decisions to attend cultural programs and about their relationship with the classical music art form. The study paints a detailed picture of how consumers fit classical music into their lives -- listening to classical radio and recordings in their automobiles and homes, and attending live concerts in churches, schools and traditional concert venues. The 15 Market Areas Survey (the Local Surveys) collected data on approximately 750 telephone interviews which were completed in each of the 15 markets between August 2001 and March 2002. Orchestras whose market areas were surveyed: Brooklyn Philharmonic Orchestra, Charlotte Symphony Orchestra, Colorado Symphony Association, Detroit Symphony Orchestra, Fort Wayne Philharmonic Orchestra, Kansas City Symphony, Long Beach Symphony Association, Louisiana Philharmonic Orchestra, New World Symphony (Miami-Dade County, FL), Oregon Symphony Association (Portland, OR), Philadelphia Orchestra, Saint Louis Symphony Orchestra, Saint Paul Chamber Orchestra, Symphony Society of San Antonio, and Wichita Symphony Society. In sum, a total of 11,318 interviews were completed. The geography to be sampled in each market was determined through an analysis of the orchestra's actual customer records and was defined as the area from which the orchestra draws approximately 85 percent of its ticket buyers. Each local market orchestra was also allowed a small number of discretionary questions. The 15 Market Areas Survey collected data from respondents in each of 15 orchestra markets on attitudes, behaviors, and opinions related to classical music participation. In addition to these questions, a subset of respondents who qualified as \"potential classical music consumers\" were also asked a series of questions about factors that affect their decisions to attend cultural programs and about their relationship with the classical music art form. The Ticket Buyers Survey (Subscriber and Single-Ticket Buyer Surveys) also collected data from the 15 orchestras. A total of 1,500 machine-readable questionnaires were mailed to a random sample of each orchestra's subscribers (750) and single-ticket buyers (750) in each of 15 orchestra markets between August 2001 and February 2002. Of the 10,098 valid responses received, 5,553 were from current subscribers, 1,657 from former subscribers who are current single-ticket buyers, and 2,888 from single-ticket buyers who are not former subscribers. Orchestra subscribers and single-ticket buyers in each of the 15 orchestra markets were asked questions on their attitudes, behaviors, and opinions related to classical music participation. Questions asked in these surveys were similar to the interview protocols for the national and local market surveys also conducted for this study. The study paints a detailed picture of how consumers fit classical music into their lives -- listening to classical radio and recordings in their automobiles and homes, and attending live concerts in churches, schools and traditional concert venues. Roughly 10 percent to 15 percent of Americans have what might be termed a close or moderately close relationship with classical music, and again as many have weaker ties. Across the 15 study cities, approximately one of four adults are prospects (i.e. potential orchestra ticket buyers). But only half of those who express the very highest levels of preference for attending classical music concerts actually attend, even infrequently. The Classical Music Consumer Segmentation Study was undertaken to improve understanding of symphony orchestra audiences and markets and to develop a conceptual model of the market place that can assist orchestras in \"capturing additional market potential.\""
   ]
  },
  {
   "cell_type": "markdown",
   "metadata": {},
   "source": [
    "## Citation\n",
    "#### Knight Foundation. Classical Music Consumer Segmentation Study 2002 [United States]. Ann Arbor, MI: Inter-university Consortium for Political and Social Research [distributor], 2015-03-19. https://doi.org/10.3886/ICPSR35535.v1"
   ]
  },
  {
   "cell_type": "markdown",
   "metadata": {},
   "source": [
    "## Funding\n",
    "#### Knight Foundation, Brooklyn Philharmonic Orchestra, Philadelphia Orchestra, Oregon Symphony Association, Charlotte Symphony Orchestra, Colorado Symphony Association, Symphony Society of San Antonio, Detroit Symphony Orchestra Hall, Fort Wayne Philharmonic Orchestra, Kansas City Symphony, Saint Paul Chamber Orchestra, Long Beach Symphony Association, Louisiana Philharmonic Orchestra, Saint Louis Symphony Orchestra, New World Symphony, Wichita Symphony Society"
   ]
  },
  {
   "cell_type": "markdown",
   "metadata": {},
   "source": [
    "## Geographic Coverage\n",
    "#### United States"
   ]
  },
  {
   "cell_type": "markdown",
   "metadata": {},
   "source": [
    "### Data:"
   ]
  },
  {
   "cell_type": "code",
   "execution_count": null,
   "metadata": {
    "collapsed": true
   },
   "outputs": [],
   "source": [
    "%matplotlib inline\n",
    "import matplotlib.pyplot as plt\n",
    "import ipywidgets as widgets\n",
    "import pandas as pd"
   ]
  },
  {
   "cell_type": "code",
   "execution_count": null,
   "metadata": {
    "collapsed": true
   },
   "outputs": [],
   "source": [
    "from IPython.display import display, clear_output\n",
    "from ipywidgets import Button, HBox, VBox\n",
    "from collections import Counter"
   ]
  },
  {
   "cell_type": "code",
   "execution_count": null,
   "metadata": {
    "collapsed": true
   },
   "outputs": [],
   "source": [
    "df = pd.read_csv('21600-0017-Data.tsv', sep= '\\t')\n",
    "df.head(10)"
   ]
  },
  {
   "cell_type": "markdown",
   "metadata": {},
   "source": [
    "### Graph Template:"
   ]
  },
  {
   "cell_type": "code",
   "execution_count": null,
   "metadata": {
    "collapsed": true
   },
   "outputs": [],
   "source": [
    "style = {'description_width': 'initial'}\n",
    "\n",
    "# set up initial text box and button\n",
    "graphs_num = widgets.IntText(value = 1, description = \"Number of Graphs\", style = style)\n",
    "graphs_ex = widgets.Button(description = \"Execute\")\n",
    "\n",
    "# set up the graph widgets\n",
    "x_axis = []\n",
    "x_filter = []\n",
    "x_filter_num = []\n",
    "y_axis = []\n",
    "y_filter = []\n",
    "y_filter_num = []\n",
    "graph_type = []\n",
    "\n",
    "# create graph button\n",
    "run_graph = widgets.Button(description = \"Graph!\")\n",
    "\n",
    "# display setup buttons\n",
    "display(graphs_num)\n",
    "display(graphs_ex)\n",
    "x_axis.append(widgets.Dropdown(options = list(df), description = \"X Variable\", style = style))\n",
    "x_filter.append(widgets.Dropdown(options = [\"No Filter\", \"=\", \"!=\", \">\", \">=\", \"<\", \"<=\"], description = \"Filter:\", style = style))\n",
    "x_filter_num.append(widgets.IntText(value = 0))\n",
    "y_axis.append(widgets.Dropdown(options = list(df), description = \"Y Variable\", style = style))\n",
    "y_filter.append(widgets.Dropdown(options = [\"No Filter\", \"=\", \"!=\", \">\", \">=\", \"<\", \"<=\"], description = \"Filter:\", style = style))\n",
    "y_filter_num.append(widgets.IntText(value = 0))\n",
    "graph_type.append(widgets.Dropdown(options = [\"Bar (Sum)\", \"Line (Trends)\", \"Pie (Percent)\"], description = \"Type:\", style = style))\n",
    "x_group = HBox([x_axis[0], x_filter[0], x_filter_num[0]])\n",
    "y_group = HBox([y_axis[0], y_filter[0], y_filter_num[0]])\n",
    "x_and_y = VBox([x_group, y_group]), VBox([x_group, y_group])\n",
    "print (\"Graph 1:\")\n",
    "display(x_and_y[0])\n",
    "display(graph_type[0])\n",
    "display(run_graph)\n",
    "\n",
    "print_x = []\n",
    "print_y = []\n",
    "xvar = []\n",
    "\n",
    "# create graphs\n",
    "def publish_graph(p):\n",
    "    clear_output()\n",
    "    display(graphs_num)\n",
    "    display(graphs_ex)\n",
    "    \n",
    "    for i in range(graphs_num.value):     \n",
    "        x_group = HBox([x_axis[i], x_filter[i], x_filter_num[i]])    \n",
    "        y_group = HBox([y_axis[i], y_filter[i], y_filter_num[i]])\n",
    "        x_and_y = VBox([x_group, y_group]), VBox([x_group, y_group])\n",
    "        print (\"Graph %d:\" %(i+1))\n",
    "        display(x_and_y[0])\n",
    "        display(graph_type[i])\n",
    "    display(run_graph)\n",
    "    \n",
    "    for i in range(graphs_num.value):\n",
    "        if x_filter[i].value == 'No Filter':\n",
    "            for j in range(len(df)):\n",
    "                xvar.append(j)        \n",
    "        elif x_filter[i].value == \"=\":\n",
    "            for j in range(len(df)):\n",
    "                if df[x_axis[i].value][j] == x_filter_num[i].value:\n",
    "                    xvar.append(j)\n",
    "        elif (x_filter[i].value == \"!=\"):\n",
    "            for j in range(len(df)):\n",
    "                if df[x_axis[i].value][j] != x_filter_num[i].value:\n",
    "                    xvar.append(j)     \n",
    "        elif x_filter[i].value == \">\":\n",
    "            for j in range(len(df)):\n",
    "                if df[x_axis[i].value][j] > x_filter_num[i].value:\n",
    "                    xvar.append(j)          \n",
    "        elif x_filter[i].value == \">=\":\n",
    "            for j in range(len(df)):\n",
    "                if df[x_axis[i].value][j] >= x_filter_num[i].value:\n",
    "                    xvar.append(j)           \n",
    "        elif x_filter[i].value == \"<\":\n",
    "            for j in range(len(df)):\n",
    "                if df[x_axis[i].value][j] < x_filter_num[i].value:\n",
    "                    xvar.append(j)          \n",
    "        elif x_filter[i].value == \"<=\":\n",
    "            for j in range(len(df)):\n",
    "                if df[x_axis[i].value][j] <= x_filter_num[i].value:\n",
    "                    xvar.append(j) \n",
    "                    \n",
    "######## BAR GRAPH ############################################################\n",
    "######## PIE CHART ############################################################\n",
    "\n",
    "        if graph_type[i].value == \"Bar (Sum)\" or graph_type[i].value == \"Pie (Percent)\":         \n",
    "            if y_filter[i].value == \"No Filter\":\n",
    "                for k in range(len(xvar)):\n",
    "                    print_y.append(df[y_axis[i].value][xvar[k]])\n",
    "         \n",
    "            elif (y_filter[i].value == \"=\"):\n",
    "                for k in range(len(xvar)):\n",
    "                    if (df[y_axis[i].value][xvar[k]] == y_filter_num[i].value):\n",
    "                        print_y.append(df[y_axis[i].value][xvar[k]])   \n",
    "        \n",
    "            elif (y_filter[i].value == \"!=\"):\n",
    "                for k in range(len(xvar)):\n",
    "                    if (df[y_axis[i].value][xvar[k]] != y_filter_num[i].value):\n",
    "                        print_y.append(df[y_axis[i].value][xvar[k]]) \n",
    "       \n",
    "            elif (y_filter[i].value == \">\"):\n",
    "                for k in range(len(xvar)):\n",
    "                    if (df[y_axis[i].value][xvar[k]] > y_filter_num[i].value):\n",
    "                        print_y.append(df[y_axis[i].value][xvar[k]]) \n",
    "                        \n",
    "            elif (y_filter[i].value == \">=\"):\n",
    "                for k in range(len(xvar)):\n",
    "                    if (df[y_axis[i].value][xvar[k]] >= y_filter_num[i].value):\n",
    "                        print_y.append(df[y_axis[i].value][xvar[k]]) \n",
    "                        \n",
    "            elif (y_filter[i].value == \"<\"):\n",
    "                for k in range(len(xvar)):\n",
    "                    if (df[y_axis[i].value][xvar[k]] < y_filter_num[i].value):\n",
    "                        print_y.append(df[y_axis[i].value][xvar[k]]) \n",
    "                        \n",
    "            elif (y_filter[i].value == \"<=\"):\n",
    "                for k in range(len(xvar)):\n",
    "                    if (df[y_axis[i].value][xvar[k]] <= y_filter_num[i].value):\n",
    "                        print_y.append(df[y_axis[i].value][xvar[k]])\n",
    "                        \n",
    "            D = Counter(print_y)\n",
    "                        \n",
    "######## LINE GRAPH ############################################################\n",
    "\n",
    "        else:\n",
    "            if (y_filter[i].value == \"No Filter\"):\n",
    "                for k in range(len(xvar)):\n",
    "                    print_x.append(df[x_axis[i].value][xvar[k]])\n",
    "                    print_y.append(df[y_axis[i].value][xvar[k]])           \n",
    "            elif (y_filter[i].value == \"=\"):\n",
    "                for k in range(len(xvar)):\n",
    "                    if (df[y_axis[i].value][k] == y_filter_num[i].value):\n",
    "                        print_x.append(df[x_axis[i].value][xvar[k]])\n",
    "                        print_y.append(df[y_axis[i].value][xvar[k]])          \n",
    "            elif (y_filter[i].value == \"!=\"):\n",
    "                for k in range(len(xvar)):\n",
    "                    if (df[y_axis[i].value][k] != y_filter_num[i].value):\n",
    "                        print_x.append(df[x_axis[i].value][xvar[k]])\n",
    "                        print_y.append(df[y_axis[i].value][xvar[k]])  \n",
    "            elif (y_filter[i].value == \">\"):\n",
    "                for k in range(len(xvar)):\n",
    "                    if (df[y_axis[i].value][k] > y_filter_num[i].value):\n",
    "                        print_x.append(df[x_axis[i].value][xvar[k]])\n",
    "                        print_y.append(df[y_axis[i].value][xvar[k]])             \n",
    "            elif (y_filter[i].value == \">=\"):\n",
    "                for k in range(len(xvar)):\n",
    "                    if (df[y_axis[i].value][k] >= y_filter_num[i].value):\n",
    "                        print_x.append(df[x_axis[i].value][xvar[k]])\n",
    "                        print_y.append(df[y_axis[i].value][xvar[k]])            \n",
    "            elif (y_filter[i].value == \"<\"):\n",
    "                for k in range(len(xvar)):\n",
    "                    if (df[y_axis[i].value][k] < y_filter_num[i].value):\n",
    "                        print_x.append(df[x_axis[i].value][xvar[k]])\n",
    "                        print_y.append(df[y_axis[i].value][xvar[k]])            \n",
    "            elif (y_filter[i].value == \"<=\"):\n",
    "                for k in range(len(xvar)):\n",
    "                    if (df[y_axis[i].value][k] <= y_filter_num[i].value):\n",
    "                        print_x.append(df[x_axis[i].value][xvar[k]])\n",
    "                        print_y.append(df[y_axis[i].value][xvar[k]])  \n",
    "########## Print Graph ########################################################                    \n",
    "        #print(print_x)\n",
    "        #print(print_y)\n",
    "        plt.figure()\n",
    "        if (graph_type[i].value == \"Bar (Sum)\"):\n",
    "            plt.bar(range(len(D)), list(D.values()), align='center')\n",
    "            plt.xticks(range(len(D)), list(D.keys()))\n",
    "            \n",
    "        elif (graph_type[i].value == \"Pie (Percent)\"):\n",
    "            plt.pie([float(v) for v in D.values()], labels=[float(k) for k in D], autopct='%1.1f%%')\n",
    "        else:\n",
    "            plt.plot(print_x, print_y)\n",
    "            \n",
    "        print_x.clear()\n",
    "        print_y.clear()\n",
    "        xvar.clear()\n",
    "            \n",
    "def run_setup(r):\n",
    "    clear_output()\n",
    "    display(graphs_num)\n",
    "    display(graphs_ex)\n",
    "    for i in range(graphs_num.value):\n",
    "        x_axis.append(widgets.Dropdown(options = list(df), description = \"X Variable\", style = style))\n",
    "        x_filter.append(widgets.Dropdown(options = [\"No Filter\", \"=\", \"!=\", \">\", \">=\", \"<\", \"<=\"], description = \"Filter:\", style = style))\n",
    "        x_filter_num.append(widgets.IntText(value = 0))\n",
    "        y_axis.append(widgets.Dropdown(options = list(df), description = \"Y Variable\", style = style))\n",
    "        y_filter.append(widgets.Dropdown(options = [\"No Filter\", \"=\", \"!=\", \">\", \">=\", \"<\", \"<=\"], description = \"Filter:\", style = style))\n",
    "        y_filter_num.append(widgets.IntText(value = 0))\n",
    "        graph_type.append(widgets.Dropdown(options = [\"Bar (Sum)\", \"Line (Trends)\", \"Pie (Percent)\"], description = \"Type:\", style = style))\n",
    "        \n",
    "        x_group = HBox([x_axis[i], x_filter[i], x_filter_num[i]])\n",
    "        y_group = HBox([y_axis[i], y_filter[i], y_filter_num[i]])\n",
    "        x_and_y = VBox([x_group, y_group]), VBox([x_group, y_group])\n",
    "        print (\"Graph %d:\" %(i+1))\n",
    "        display(x_and_y[0])\n",
    "        display(graph_type[i])\n",
    "    display(run_graph)\n",
    "    \n",
    "graphs_ex.on_click(run_setup)\n",
    "run_graph.on_click(publish_graph)\n",
    "\n"
   ]
  }
 ],
 "metadata": {
  "kernelspec": {
   "display_name": "Python 3",
   "language": "python",
   "name": "python3"
  },
  "language_info": {
   "codemirror_mode": {
    "name": "ipython",
    "version": 3
   },
   "file_extension": ".py",
   "mimetype": "text/x-python",
   "name": "python",
   "nbconvert_exporter": "python",
   "pygments_lexer": "ipython3",
   "version": "3.6.3"
  }
 },
 "nbformat": 4,
 "nbformat_minor": 2
}
