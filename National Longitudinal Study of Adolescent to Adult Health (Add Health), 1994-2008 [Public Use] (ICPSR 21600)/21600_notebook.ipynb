{
 "cells": [
  {
   "cell_type": "markdown",
   "metadata": {},
   "source": [
    "# National Longitudinal Study of Adolescent to Adult Health (Add Health), 1994-2008 [Public Use] (ICPSR 21600)"
   ]
  },
  {
   "cell_type": "markdown",
   "metadata": {},
   "source": [
    "## Alternate Title\n",
    "#### Magic of Music"
   ]
  },
  {
   "cell_type": "markdown",
   "metadata": {},
   "source": [
    "## Summary\n",
    "#### A Data Guide for this study is available as a web page and for download. The National Longitudinal Study of Adolescent to Adult Health (Add Health), 1994-2008 [Public Use] is a longitudinal study of a nationally representative sample of U.S. adolescents in grades 7 through 12 during the 1994-1995 school year. The Add Health cohort was followed into young adulthood with four in-home interviews, the most recent conducted in 2008 when the sample was aged 24-32. Add Health combines longitudinal survey data on respondents' social, economic, psychological, and physical well-being with contextual data on the family, neighborhood, community, school, friendships, peer groups, and romantic relationships. \n",
    "#### Add Health Wave I data collection took place between September 1994 and December 1995, and included both an in-school questionnaire and in-home interview. The in-school questionnaire was administered to more than 90,000 students in grades 7 through 12, and gathered information on social and demographic characteristics of adolescent respondents, education and occupation of parents, household structure, expectations for the future, self-esteem, health status, risk behaviors, friendships, and school-year extracurricular activities. All students listed on a sample school's roster were eligible for selection into the core in-home interview sample. In-home interviews included topics such as health status, health-facility utilization, nutrition, peer networks, decision-making processes, family composition and dynamics, educational aspirations and expectations, employment experience, romantic and sexual partnerships, substance use, and criminal activities. A parent, preferably the resident mother, of each adolescent respondent interviewed in Wave I was also asked to complete an interviewer-assisted questionnaire covering topics such as inheritable health conditions, marriages and marriage-like relationships, neighborhood characteristics, involvement in volunteer, civic, and school activities, health-affecting behaviors, education and employment, household income and economic assistance, parent-adolescent communication and interaction, parent's familiarity with the adolescent's friends and friends' parents. \n",
    "#### Add Health data collection recommenced for Wave II from April to August 1996, and included almost 15,000 follow-up in-home interviews with adolescents from Wave I. Interview questions were generally similar to Wave I, but also included questions about sun exposure and more detailed nutrition questions. Respondents were asked to report their height and weight during the course of the interview, and were also weighed and measured by the interviewer. \n",
    "#### From August 2001 to April 2002, Wave III data were collected through in-home interviews with 15,170 Wave I respondents (now 18 to 26 years old), as well as interviews with their partners. Respondents were administered survey questions designed to obtain information about family, relationships, sexual experiences, childbearing, and educational histories, labor force involvement, civic participation, religion and spirituality, mental health, health insurance, illness, delinquency and violence, gambling, substance abuse, and involvement with the criminal justice system. High School Transcript Release Forms were also collected at Wave III, and these data comprise the Education Data component of the Add Health study. \n",
    "#### Wave IV in-home interviews were conducted in 2008 and 2009 when the original Wave I respondents were 24 to 32 years old. Longitudinal survey data were collected on the social, economic, psychological, and health circumstances of respondents, as well as longitudinal geographic data. Survey questions were expanded on educational transitions, economic status and financial resources and strains, sleep patterns and sleep quality, eating habits and nutrition, illnesses and medications, physical activities, emotional content and quality of current or most recent romantic/cohabiting/marriage relationships, and maltreatment during childhood by caregivers. Dates and circumstances of key life events occurring in young adulthood were also recorded, including a complete marriage and cohabitation history, full pregnancy and fertility histories from both men and women, an educational history of dates of degrees and school attendance, contact with the criminal justice system, military service, and various employment events, including the date of first and current jobs, with respective information on occupation, industry, wages, hours, and benefits. Finally, physical measurements and biospecimens were also collected at Wave IV, and included anthropometric measures of weight, height and waist circumference, cardiovascular measures such as systolic blood pressure, diastolic blood pressure, and pulse, metabolic measures from dried blood spots assayed for lipids, glucose, and glycosylated hemoglobin (HbA1c), measures of inflammation and immune function, including High sensitivity C-reactive protein (hsCRP) and Epstein-Barr virus (EBV)."
   ]
  },
  {
   "cell_type": "markdown",
   "metadata": {},
   "source": [
    "## Citation\n",
    "#### Harris, Kathleen Mullan, and Udry, J. Richard. National Longitudinal Study of Adolescent to Adult Health (Add Health), 1994-2008 [Public Use]. Ann Arbor, MI: Carolina Population Center, University of North Carolina-Chapel Hill [distributor], Inter-university Consortium for Political and Social Research [distributor], 2017-10-24. https://doi.org/10.3886/ICPSR21600.v18"
   ]
  },
  {
   "cell_type": "markdown",
   "metadata": {},
   "source": [
    "## Funding\n",
    "#### United States Department of Health and Human Services. National Institutes of Health. Eunice Kennedy Shriver National Institute of Child Health and Human Development (P01HD31921)\n",
    "#### United States Department of Health and Human Services. National Institutes of Health. National Cancer Institute\n",
    "#### United States Department of Health and Human Services. National Institutes of Health. National Institute on Alcohol Abuse and Alcoholism\n",
    "#### United States Department of Health and Human Services. National Institutes of Health. National Institute on Deafness and Other Communication Disorders\n",
    "#### United States Department of Health and Human Services. National Institutes of Health. National Institute on Drug Abuse\n",
    "#### United States Department of Health and Human Services. National Institutes of Health. National Institute of General Medical Sciences\n",
    "#### United States Department of Health and Human Services. National Institutes of Health. National Institute of Mental Health\n",
    "#### United States Department of Health and Human Services. National Institutes of Health. National Institute of Nursing Research\n",
    "#### United States Department of Health and Human Services. National Institutes of Health. Office of AIDS Research\n",
    "#### United States Department of Health and Human Services. National Institutes of Health. Office of Behavioral and Social Sciences Research\n",
    "#### United States Department of Health and Human Services. National Institutes of Health. Office of Research on Women's Health\n",
    "#### United States Department of Health and Human Services. Office of Public Health and Science. Office of Population Affairs\n",
    "#### United States Department of Health and Human Services. Centers for Disease Control and Prevention. National Center for Health Statistics\n",
    "#### United States Department of Health and Human Services. Centers for Disease Control and Prevention. Office of Minority Health\n",
    "#### United States Department of Health and Human Services. Office of Public Health and Science. Office of Minority Health\n",
    "#### United States Department of Health and Human Services. Office of the Assistant Secretary for Planning and Evaluation\n",
    "#### National Science Foundation"
   ]
  },
  {
   "cell_type": "markdown",
   "metadata": {},
   "source": [
    "## Link\n",
    "#### https://www.icpsr.umich.edu/icpsrweb/ICPSR/studies/21600"
   ]
  },
  {
   "cell_type": "markdown",
   "metadata": {},
   "source": [
    "### Data:"
   ]
  },
  {
   "cell_type": "code",
   "execution_count": 1,
   "metadata": {
    "collapsed": true
   },
   "outputs": [],
   "source": [
    "%matplotlib inline\n",
    "import matplotlib.pyplot as plt\n",
    "import ipywidgets as widgets\n",
    "import pandas as pd"
   ]
  },
  {
   "cell_type": "code",
   "execution_count": 2,
   "metadata": {
    "collapsed": true
   },
   "outputs": [],
   "source": [
    "from IPython.display import display, clear_output\n",
    "from ipywidgets import Button, HBox, VBox\n",
    "from collections import Counter"
   ]
  },
  {
   "cell_type": "code",
   "execution_count": 3,
   "metadata": {},
   "outputs": [
    {
     "data": {
      "text/html": [
       "<div>\n",
       "<style scoped>\n",
       "    .dataframe tbody tr th:only-of-type {\n",
       "        vertical-align: middle;\n",
       "    }\n",
       "\n",
       "    .dataframe tbody tr th {\n",
       "        vertical-align: top;\n",
       "    }\n",
       "\n",
       "    .dataframe thead th {\n",
       "        text-align: right;\n",
       "    }\n",
       "</style>\n",
       "<table border=\"1\" class=\"dataframe\">\n",
       "  <thead>\n",
       "    <tr style=\"text-align: right;\">\n",
       "      <th></th>\n",
       "      <th>AID</th>\n",
       "      <th>EREXITST</th>\n",
       "      <th>ERGRADM</th>\n",
       "      <th>ERGRADY</th>\n",
       "    </tr>\n",
       "  </thead>\n",
       "  <tbody>\n",
       "    <tr>\n",
       "      <th>0</th>\n",
       "      <td>57100270</td>\n",
       "      <td>G</td>\n",
       "      <td>92</td>\n",
       "      <td>9992</td>\n",
       "    </tr>\n",
       "    <tr>\n",
       "      <th>1</th>\n",
       "      <td>57101310</td>\n",
       "      <td>A</td>\n",
       "      <td>92</td>\n",
       "      <td>9992</td>\n",
       "    </tr>\n",
       "    <tr>\n",
       "      <th>2</th>\n",
       "      <td>57103869</td>\n",
       "      <td>G</td>\n",
       "      <td>92</td>\n",
       "      <td>9992</td>\n",
       "    </tr>\n",
       "    <tr>\n",
       "      <th>3</th>\n",
       "      <td>57104676</td>\n",
       "      <td>A</td>\n",
       "      <td>6</td>\n",
       "      <td>2000</td>\n",
       "    </tr>\n",
       "    <tr>\n",
       "      <th>4</th>\n",
       "      <td>57109625</td>\n",
       "      <td>A</td>\n",
       "      <td>92</td>\n",
       "      <td>9992</td>\n",
       "    </tr>\n",
       "    <tr>\n",
       "      <th>5</th>\n",
       "      <td>57111071</td>\n",
       "      <td>A</td>\n",
       "      <td>6</td>\n",
       "      <td>1999</td>\n",
       "    </tr>\n",
       "    <tr>\n",
       "      <th>6</th>\n",
       "      <td>57111786</td>\n",
       "      <td>A</td>\n",
       "      <td>5</td>\n",
       "      <td>1998</td>\n",
       "    </tr>\n",
       "    <tr>\n",
       "      <th>7</th>\n",
       "      <td>57117542</td>\n",
       "      <td>G</td>\n",
       "      <td>92</td>\n",
       "      <td>9992</td>\n",
       "    </tr>\n",
       "    <tr>\n",
       "      <th>8</th>\n",
       "      <td>57117997</td>\n",
       "      <td>A</td>\n",
       "      <td>92</td>\n",
       "      <td>9992</td>\n",
       "    </tr>\n",
       "    <tr>\n",
       "      <th>9</th>\n",
       "      <td>57118381</td>\n",
       "      <td>A</td>\n",
       "      <td>5</td>\n",
       "      <td>2000</td>\n",
       "    </tr>\n",
       "  </tbody>\n",
       "</table>\n",
       "</div>"
      ],
      "text/plain": [
       "        AID EREXITST  ERGRADM  ERGRADY\n",
       "0  57100270        G       92     9992\n",
       "1  57101310        A       92     9992\n",
       "2  57103869        G       92     9992\n",
       "3  57104676        A        6     2000\n",
       "4  57109625        A       92     9992\n",
       "5  57111071        A        6     1999\n",
       "6  57111786        A        5     1998\n",
       "7  57117542        G       92     9992\n",
       "8  57117997        A       92     9992\n",
       "9  57118381        A        5     2000"
      ]
     },
     "execution_count": 3,
     "metadata": {},
     "output_type": "execute_result"
    }
   ],
   "source": [
    "df = pd.read_csv('21600-0017-Data.tsv', sep= '\\t')\n",
    "df.head(10)"
   ]
  },
  {
   "cell_type": "markdown",
   "metadata": {},
   "source": [
    "### Graph Template:"
   ]
  },
  {
   "cell_type": "code",
   "execution_count": 4,
   "metadata": {},
   "outputs": [
    {
     "data": {
      "application/vnd.jupyter.widget-view+json": {
       "model_id": "4148de5ae9a44e5e82a87e00cddec4ee",
       "version_major": 2,
       "version_minor": 0
      },
      "text/plain": [
       "A Jupyter Widget"
      ]
     },
     "metadata": {},
     "output_type": "display_data"
    },
    {
     "data": {
      "application/vnd.jupyter.widget-view+json": {
       "model_id": "aa2ae9979f9940b98e4392a97fba66e4",
       "version_major": 2,
       "version_minor": 0
      },
      "text/plain": [
       "A Jupyter Widget"
      ]
     },
     "metadata": {},
     "output_type": "display_data"
    },
    {
     "name": "stdout",
     "output_type": "stream",
     "text": [
      "Graph 1:\n"
     ]
    },
    {
     "data": {
      "application/vnd.jupyter.widget-view+json": {
       "model_id": "bbf7c20e73524bea80cbb585e446360d",
       "version_major": 2,
       "version_minor": 0
      },
      "text/plain": [
       "A Jupyter Widget"
      ]
     },
     "metadata": {},
     "output_type": "display_data"
    },
    {
     "data": {
      "application/vnd.jupyter.widget-view+json": {
       "model_id": "d8925aefcc2f40c9b41fa64dc1766ee2",
       "version_major": 2,
       "version_minor": 0
      },
      "text/plain": [
       "A Jupyter Widget"
      ]
     },
     "metadata": {},
     "output_type": "display_data"
    },
    {
     "data": {
      "application/vnd.jupyter.widget-view+json": {
       "model_id": "9e2dacd801db4c38870342965bc92603",
       "version_major": 2,
       "version_minor": 0
      },
      "text/plain": [
       "A Jupyter Widget"
      ]
     },
     "metadata": {},
     "output_type": "display_data"
    },
    {
     "data": {
      "image/png": "[encoded data removed]",
      "text/plain": [
       "<matplotlib.figure.Figure at 0x104676d30>"
      ]
     },
     "metadata": {},
     "output_type": "display_data"
    }
   ],
   "source": [
    "style = {'description_width': 'initial'}\n",
    "\n",
    "# set up initial text box and button\n",
    "graphs_num = widgets.IntText(value = 1, description = \"Number of Graphs\", style = style)\n",
    "graphs_ex = widgets.Button(description = \"Execute\")\n",
    "\n",
    "# set up the graph widgets\n",
    "x_axis = []\n",
    "x_filter = []\n",
    "x_filter_num = []\n",
    "y_axis = []\n",
    "y_filter = []\n",
    "y_filter_num = []\n",
    "graph_type = []\n",
    "\n",
    "# create graph button\n",
    "run_graph = widgets.Button(description = \"Graph!\")\n",
    "\n",
    "# display setup buttons\n",
    "display(graphs_num)\n",
    "display(graphs_ex)\n",
    "x_axis.append(widgets.Dropdown(options = list(df), description = \"X Variable\", style = style))\n",
    "x_filter.append(widgets.Dropdown(options = [\"No Filter\", \"=\", \"!=\", \">\", \">=\", \"<\", \"<=\"], description = \"Filter:\", style = style))\n",
    "x_filter_num.append(widgets.IntText(value = 0))\n",
    "y_axis.append(widgets.Dropdown(options = list(df), description = \"Y Variable\", style = style))\n",
    "y_filter.append(widgets.Dropdown(options = [\"No Filter\", \"=\", \"!=\", \">\", \">=\", \"<\", \"<=\"], description = \"Filter:\", style = style))\n",
    "y_filter_num.append(widgets.IntText(value = 0))\n",
    "graph_type.append(widgets.Dropdown(options = [\"Bar (Sum)\", \"Line (Trends)\", \"Pie (Percent)\"], description = \"Type:\", style = style))\n",
    "x_group = HBox([x_axis[0], x_filter[0], x_filter_num[0]])\n",
    "y_group = HBox([y_axis[0], y_filter[0], y_filter_num[0]])\n",
    "x_and_y = VBox([x_group, y_group]), VBox([x_group, y_group])\n",
    "print (\"Graph 1:\")\n",
    "display(x_and_y[0])\n",
    "display(graph_type[0])\n",
    "display(run_graph)\n",
    "\n",
    "print_x = []\n",
    "print_y = []\n",
    "xvar = []\n",
    "\n",
    "# create graphs\n",
    "def publish_graph(p):\n",
    "    clear_output()\n",
    "    display(graphs_num)\n",
    "    display(graphs_ex)\n",
    "    \n",
    "    for i in range(graphs_num.value):     \n",
    "        x_group = HBox([x_axis[i], x_filter[i], x_filter_num[i]])    \n",
    "        y_group = HBox([y_axis[i], y_filter[i], y_filter_num[i]])\n",
    "        x_and_y = VBox([x_group, y_group]), VBox([x_group, y_group])\n",
    "        print (\"Graph %d:\" %(i+1))\n",
    "        display(x_and_y[0])\n",
    "        display(graph_type[i])\n",
    "    display(run_graph)\n",
    "    \n",
    "    for i in range(graphs_num.value):\n",
    "        if x_filter[i].value == 'No Filter':\n",
    "            for j in range(len(df)):\n",
    "                xvar.append(j)        \n",
    "        elif x_filter[i].value == \"=\":\n",
    "            for j in range(len(df)):\n",
    "                if df[x_axis[i].value][j] == x_filter_num[i].value:\n",
    "                    xvar.append(j)\n",
    "        elif (x_filter[i].value == \"!=\"):\n",
    "            for j in range(len(df)):\n",
    "                if df[x_axis[i].value][j] != x_filter_num[i].value:\n",
    "                    xvar.append(j)     \n",
    "        elif x_filter[i].value == \">\":\n",
    "            for j in range(len(df)):\n",
    "                if df[x_axis[i].value][j] > x_filter_num[i].value:\n",
    "                    xvar.append(j)          \n",
    "        elif x_filter[i].value == \">=\":\n",
    "            for j in range(len(df)):\n",
    "                if df[x_axis[i].value][j] >= x_filter_num[i].value:\n",
    "                    xvar.append(j)           \n",
    "        elif x_filter[i].value == \"<\":\n",
    "            for j in range(len(df)):\n",
    "                if df[x_axis[i].value][j] < x_filter_num[i].value:\n",
    "                    xvar.append(j)          \n",
    "        elif x_filter[i].value == \"<=\":\n",
    "            for j in range(len(df)):\n",
    "                if df[x_axis[i].value][j] <= x_filter_num[i].value:\n",
    "                    xvar.append(j) \n",
    "                    \n",
    "######## BAR GRAPH ############################################################\n",
    "######## PIE CHART ############################################################\n",
    "\n",
    "        if graph_type[i].value == \"Bar (Sum)\" or graph_type[i].value == \"Pie (Percent)\":         \n",
    "            if y_filter[i].value == \"No Filter\":\n",
    "                for k in range(len(xvar)):\n",
    "                    print_y.append(df[y_axis[i].value][xvar[k]])\n",
    "         \n",
    "            elif (y_filter[i].value == \"=\"):\n",
    "                for k in range(len(xvar)):\n",
    "                    if (df[y_axis[i].value][xvar[k]] == y_filter_num[i].value):\n",
    "                        print_y.append(df[y_axis[i].value][xvar[k]])   \n",
    "        \n",
    "            elif (y_filter[i].value == \"!=\"):\n",
    "                for k in range(len(xvar)):\n",
    "                    if (df[y_axis[i].value][xvar[k]] != y_filter_num[i].value):\n",
    "                        print_y.append(df[y_axis[i].value][xvar[k]]) \n",
    "       \n",
    "            elif (y_filter[i].value == \">\"):\n",
    "                for k in range(len(xvar)):\n",
    "                    if (df[y_axis[i].value][xvar[k]] > y_filter_num[i].value):\n",
    "                        print_y.append(df[y_axis[i].value][xvar[k]]) \n",
    "                        \n",
    "            elif (y_filter[i].value == \">=\"):\n",
    "                for k in range(len(xvar)):\n",
    "                    if (df[y_axis[i].value][xvar[k]] >= y_filter_num[i].value):\n",
    "                        print_y.append(df[y_axis[i].value][xvar[k]]) \n",
    "                        \n",
    "            elif (y_filter[i].value == \"<\"):\n",
    "                for k in range(len(xvar)):\n",
    "                    if (df[y_axis[i].value][xvar[k]] < y_filter_num[i].value):\n",
    "                        print_y.append(df[y_axis[i].value][xvar[k]]) \n",
    "                        \n",
    "            elif (y_filter[i].value == \"<=\"):\n",
    "                for k in range(len(xvar)):\n",
    "                    if (df[y_axis[i].value][xvar[k]] <= y_filter_num[i].value):\n",
    "                        print_y.append(df[y_axis[i].value][xvar[k]])\n",
    "                        \n",
    "            D = Counter(print_y)\n",
    "                        \n",
    "######## LINE GRAPH ############################################################\n",
    "\n",
    "        else:\n",
    "            if (y_filter[i].value == \"No Filter\"):\n",
    "                for k in range(len(xvar)):\n",
    "                    print_x.append(df[x_axis[i].value][xvar[k]])\n",
    "                    print_y.append(df[y_axis[i].value][xvar[k]])           \n",
    "            elif (y_filter[i].value == \"=\"):\n",
    "                for k in range(len(xvar)):\n",
    "                    if (df[y_axis[i].value][k] == y_filter_num[i].value):\n",
    "                        print_x.append(df[x_axis[i].value][xvar[k]])\n",
    "                        print_y.append(df[y_axis[i].value][xvar[k]])          \n",
    "            elif (y_filter[i].value == \"!=\"):\n",
    "                for k in range(len(xvar)):\n",
    "                    if (df[y_axis[i].value][k] != y_filter_num[i].value):\n",
    "                        print_x.append(df[x_axis[i].value][xvar[k]])\n",
    "                        print_y.append(df[y_axis[i].value][xvar[k]])  \n",
    "            elif (y_filter[i].value == \">\"):\n",
    "                for k in range(len(xvar)):\n",
    "                    if (df[y_axis[i].value][k] > y_filter_num[i].value):\n",
    "                        print_x.append(df[x_axis[i].value][xvar[k]])\n",
    "                        print_y.append(df[y_axis[i].value][xvar[k]])             \n",
    "            elif (y_filter[i].value == \">=\"):\n",
    "                for k in range(len(xvar)):\n",
    "                    if (df[y_axis[i].value][k] >= y_filter_num[i].value):\n",
    "                        print_x.append(df[x_axis[i].value][xvar[k]])\n",
    "                        print_y.append(df[y_axis[i].value][xvar[k]])            \n",
    "            elif (y_filter[i].value == \"<\"):\n",
    "                for k in range(len(xvar)):\n",
    "                    if (df[y_axis[i].value][k] < y_filter_num[i].value):\n",
    "                        print_x.append(df[x_axis[i].value][xvar[k]])\n",
    "                        print_y.append(df[y_axis[i].value][xvar[k]])            \n",
    "            elif (y_filter[i].value == \"<=\"):\n",
    "                for k in range(len(xvar)):\n",
    "                    if (df[y_axis[i].value][k] <= y_filter_num[i].value):\n",
    "                        print_x.append(df[x_axis[i].value][xvar[k]])\n",
    "                        print_y.append(df[y_axis[i].value][xvar[k]])  \n",
    "########## Print Graph ########################################################                    \n",
    "        #print(print_x)\n",
    "        #print(print_y)\n",
    "        plt.figure()\n",
    "        if (graph_type[i].value == \"Bar (Sum)\"):\n",
    "            plt.bar(range(len(D)), list(D.values()), align='center')\n",
    "            plt.xticks(range(len(D)), list(D.keys()))\n",
    "            \n",
    "        elif (graph_type[i].value == \"Pie (Percent)\"):\n",
    "            plt.pie([float(v) for v in D.values()], labels=[float(k) for k in D], autopct='%1.1f%%')\n",
    "        else:\n",
    "            plt.plot(print_x, print_y)\n",
    "            \n",
    "        print_x.clear()\n",
    "        print_y.clear()\n",
    "        xvar.clear()\n",
    "            \n",
    "def run_setup(r):\n",
    "    clear_output()\n",
    "    display(graphs_num)\n",
    "    display(graphs_ex)\n",
    "    for i in range(graphs_num.value):\n",
    "        x_axis.append(widgets.Dropdown(options = list(df), description = \"X Variable\", style = style))\n",
    "        x_filter.append(widgets.Dropdown(options = [\"No Filter\", \"=\", \"!=\", \">\", \">=\", \"<\", \"<=\"], description = \"Filter:\", style = style))\n",
    "        x_filter_num.append(widgets.IntText(value = 0))\n",
    "        y_axis.append(widgets.Dropdown(options = list(df), description = \"Y Variable\", style = style))\n",
    "        y_filter.append(widgets.Dropdown(options = [\"No Filter\", \"=\", \"!=\", \">\", \">=\", \"<\", \"<=\"], description = \"Filter:\", style = style))\n",
    "        y_filter_num.append(widgets.IntText(value = 0))\n",
    "        graph_type.append(widgets.Dropdown(options = [\"Bar (Sum)\", \"Line (Trends)\", \"Pie (Percent)\"], description = \"Type:\", style = style))\n",
    "        \n",
    "        x_group = HBox([x_axis[i], x_filter[i], x_filter_num[i]])\n",
    "        y_group = HBox([y_axis[i], y_filter[i], y_filter_num[i]])\n",
    "        x_and_y = VBox([x_group, y_group]), VBox([x_group, y_group])\n",
    "        print (\"Graph %d:\" %(i+1))\n",
    "        display(x_and_y[0])\n",
    "        display(graph_type[i])\n",
    "    display(run_graph)\n",
    "    \n",
    "graphs_ex.on_click(run_setup)\n",
    "run_graph.on_click(publish_graph)\n",
    "\n"
   ]
  }
 ],
 "metadata": {
  "kernelspec": {
   "display_name": "Python 3",
   "language": "python",
   "name": "python3"
  },
  "language_info": {
   "codemirror_mode": {
    "name": "ipython",
    "version": 3
   },
   "file_extension": ".py",
   "mimetype": "text/x-python",
   "name": "python",
   "nbconvert_exporter": "python",
   "pygments_lexer": "ipython3",
   "version": "3.6.3"
  }
 },
 "nbformat": 4,
 "nbformat_minor": 2
}
